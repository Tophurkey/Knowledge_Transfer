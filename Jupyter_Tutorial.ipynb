{
 "cells": [
  {
   "cell_type": "markdown",
   "metadata": {},
   "source": [
    "# Welcome to Python with Jupyter Notebooks!\n",
    "\n",
    "\n",
    "##### In this course we will go over some of the basics in getting started with the python language in a Jupyter Notebook and cover some basics in programming followed by some examples!\n",
    "\n",
    "\n",
    "## What is Programming and How Will it Help My Role?\n",
    "\n",
    "\n",
    "#### Programming is becoming increasingly popular and needed for many engineering roles as the amount of tasks required to complete in an expeditious manner is skyrocketting at the same time we are experiencing a data overload from various sources such as IoT (Internet of Things), Manufacturing Measurement Equipment, and Large Databases. Some times this data is a huge pool collected in a data lake for sifting through and other times this data is high velocity with the need to handle and react quickly with one or more sources. ####"
   ]
  },
  {
   "cell_type": "markdown",
   "metadata": {},
   "source": [
    "![Data Lake](\\Data_lake_Data_Warehouse.png \"Typical Data Lake Architectures\")"
   ]
  },
  {
   "cell_type": "markdown",
   "metadata": {},
   "source": [
    "#### So when we see this we can see that many of our systems feed into what we can call a \"Data Lake\" that is the primary place where we are interacting with our data. There are other efforts that are ongoing which may also allow us to access a much more structered set of data in a \"Data Warehouse\" which would be something a little more akin to Denodo or even higher levels of structure or accessibility. ####\n",
    "\n",
    "#### What is the Key here is that when utilizing programming languages such as Python we are not bound or restricted to accessing the Data at any of these points. Currently with our standard practices of using only SQL Queries we are isolated to only collecting data from the Data Lakes and with a limited array of analysis tools to do this. ####\n",
    "###### This of course excludes any manual or non-automated data pulling we may do directly in each application which is usually much more restrictive and not analysis friendly "
   ]
  },
  {
   "cell_type": "markdown",
   "metadata": {},
   "source": [
    "# So Why Python Over SQL?\n",
    "![Venn Diagram](\\sql_py_vd.png \"SQL and Python Venn Diagram\")"
   ]
  },
  {
   "cell_type": "markdown",
   "metadata": {},
   "source": [
    "#### Offline use of a programming language is one of the best ways for us to learn how to do things and explore as if we are in our own Development environment. As a matter of fact when you are using your own code, on your own machine, with your own data (or data you have already pulled onto your computer) you have essentially turned you computer into a Dev environment!\n",
    "\n",
    "#### One of the best aspects of using Jupyter Notebooks to program with python is being able compile your code in blocks that allows you to troubleshoot it as you go and also change each chunk to get the result you want without having to compile the whole code again. The way python does this is through utilization of a Kernel that does the compilation of your code and holds the state through each iteration as you execute a new cell. Think of the kernel as your actual program being hosted by jupyter and each time you update a cell it sends that info back through a socket in json. There's no need to understand how this works to use it but in short this setup allows you to create and edit scripts with ease!\n",
    "\n",
    "Let's see an example and actually do some coding!"
   ]
  },
  {
   "cell_type": "code",
   "execution_count": 3,
   "metadata": {},
   "outputs": [
    {
     "name": "stdout",
     "output_type": "stream",
     "text": [
      "Hello World!\n"
     ]
    }
   ],
   "source": [
    "'''The simplest program to show proficiency in any language is called:\n",
    "                        Hello World!'''\n",
    "\n",
    "#In python we can print out to the screen using the following:\n",
    "print('Hello World!')"
   ]
  },
  {
   "cell_type": "markdown",
   "metadata": {},
   "source": [
    "#### Congratulations! You've run your first program! In jupyter we can select a cell and run each of those cells individually or we can run them all at once by restarting the kernel and running all cells. A handy shortcut for running the cell you are in after updating it is to use Shift + Enter. Try updating the string statement in the cell above and re-run it!"
   ]
  },
  {
   "cell_type": "markdown",
   "metadata": {},
   "source": [
    "## Types of Data\n",
    "\n",
    "#### String? Char? Int? Double? Object? Boolean? There are many different types of Data that we will be interacting with when programming and knowing the differences between them all can be critical to not banging your head against the wall or wondering why your sig figs are never correct in you outputs. \n",
    "\n",
    "#### Luckily Python only uses 5 \"Smart\" Data types that simplify a lot of this and make your lives easier!"
   ]
  },
  {
   "cell_type": "code",
   "execution_count": 1,
   "metadata": {},
   "outputs": [],
   "source": [
    "#Strings are just words or text\n",
    "new_string = 'This is a string made of many Chars'\n",
    "\n",
    "#Numbers come in many different forms\n",
    "new_int = 4\n",
    "new_float = 6.787\n",
    "#Remember this one for when we get into loops\n",
    "new_range = range(6)\n",
    "\n",
    "#Booleans are generally resolved into True or False but their inputs can be any conditional argument\n",
    "#Remember these when we discuss Conditional Statements\n",
    "new_bool = True #The T or F in this needs to be capitalized to be a boolean.\n",
    "\n",
    "#Lists (Similar to arrays) and tuples\n",
    "new_list = [1,2,3,4,5] #This is Mutable Variable (can change)\n",
    "new_tuple = (1,2,3,4,5) #This is an Immutable Object (connot change)\n",
    "\n",
    "#Dicts are one of the best features of python and they are capable of producing insanely fast lookups using Hashing!\n",
    "new_dict = {'key1': 1, 'key2': 2}\n",
    "\n",
    "#Play around with these variables and see how you can interact with them or expand them!\n",
    "#Exploring is one of the best ways to learn and there's no risk of breaking anything! (Probably)"
   ]
  },
  {
   "cell_type": "markdown",
   "metadata": {},
   "source": [
    "#### A few key things to note here is that we didn't even have to assign these values to the correct type like you do in most languages. You can force values into a certain type as well if it is needed (such as x = int(3)) but python will do this for you automatically to help make your life easier!\n",
    "\n",
    "#### Some other things to keep in mind are notice how each of the various types of list-like data structures require you to use a different kind of bracket. Those brackets are mandatory to assign them into the various data types. Also dictionaries require that specific key structure as well. \n",
    "\n",
    "#### Some thing to play around with is what you can put in those values of a dict. One popular use case to consider is what happens if you put a list into a dict? How would you call this? What type of data does this most resemble? For more information on this topic try looking into Python Collections, Maps, and Hashtables."
   ]
  },
  {
   "cell_type": "markdown",
   "metadata": {},
   "source": [
    "## Conditional Statements\n",
    "\n",
    "### If Else Elif Statements\n",
    "\n",
    "![Conditional Statements](\\if_elif_else.png \"Flow Diagram of If, Elif, and Else statements\")"
   ]
  },
  {
   "cell_type": "markdown",
   "metadata": {},
   "source": [
    "#### In Python and computer programming in general one of our most important tools is the use of Conditional statements to create decision points for our program. This is what will be our primary logic in programming and will be a tool we utilize very often. This section is going to be our first step to understanding how a computer thinks and how we can use this to our advantage.\n",
    "\n",
    "##### As a bit of a philosophical note here: Computers can certainly think faster and in higher volumes than we can but the way they do so is very limited compared to us. As a programmer your goal will be how to appropriately articulate real-world problems into something a program can interpret and do. By learning more about what a computer can do hopefully the more problems you can translate into computer code for it to do that problem. Another thing to consider is that some problems may be impossible or extremely difficult for a program to do and are better off being done by a human. For Example: consider a computer that reads a lot of data, organizes that data, and then produces graphs from that data. But should the computer use that data to make a decision on what the business should do with that result? Perhaps the final step is too complicated and may even be based on intuition or a \"gut feeling\" that isn't possible to program (yet!)."
   ]
  },
  {
   "cell_type": "code",
   "execution_count": 7,
   "metadata": {},
   "outputs": [
    {
     "name": "stdout",
     "output_type": "stream",
     "text": [
      "If statement is True.\n",
      "Looks good to me\n"
     ]
    },
    {
     "data": {
      "text/plain": [
       "\"Notice that these statements have a very specific syntax:\\n        \\n        if <Boolean or Statement>:\\n        <single indent> Action to perform\\n        \\n   This is going to be the same throughout conditional statements and brings up one of the most controversial topics\\n   in Python that doesn't matter in some other languages: Indents. In Python indents are extremely important and will\\n   define what pieces of code will be running as part of other code. More on this later but for now remember:\\n   IN PYTHON, INDENTS MATTER.\""
      ]
     },
     "execution_count": 7,
     "metadata": {},
     "output_type": "execute_result"
    }
   ],
   "source": [
    "#If statements require what is called a Boolean to begin running we can do this in two different ways:\n",
    "\n",
    "#We can do it explicitly\n",
    "if True:\n",
    "    print('If statement is True.')\n",
    "\n",
    "#Or we can make it a statement that will be calculated/assessed at execution\n",
    "if 1 == 1:\n",
    "    print('Looks good to me')\n",
    "    \n",
    "'''Notice that these statements have a very specific syntax:\n",
    "        \n",
    "        if <Boolean or Statement>:\n",
    "        <single indent> Action to perform\n",
    "        \n",
    "   This is going to be the same throughout conditional statements and brings up one of the most controversial topics\n",
    "   in Python that doesn't matter in some other languages: Indents. In Python indents are extremely important and will\n",
    "   define what pieces of code will be running as part of other code. More on this later but for now remember:\n",
    "   IN PYTHON, INDENTS MATTER.'''"
   ]
  },
  {
   "cell_type": "markdown",
   "metadata": {},
   "source": [
    "#### Now that you have seen an if statement run let's start working on branching these decision trees so that we can make some actual use out of the results. Although this excercise below is meant to show you how these systems work I encourage you to continue tinkering with code to explore and understand what's going on under the hood.\n",
    "\n",
    "#### What will happen here is that we are going to collect a response from the user at the beginning of the cell; from there we will use that value to be evaluated in the scripts"
   ]
  },
  {
   "cell_type": "code",
   "execution_count": null,
   "metadata": {},
   "outputs": [],
   "source": [
    "Add text"
   ]
  },
  {
   "cell_type": "code",
   "execution_count": null,
   "metadata": {},
   "outputs": [],
   "source": []
  },
  {
   "cell_type": "code",
   "execution_count": null,
   "metadata": {},
   "outputs": [],
   "source": []
  },
  {
   "cell_type": "markdown",
   "metadata": {},
   "source": [
    "Topics:\n",
    "-If Else Statements\n",
    "-For While Loops\n",
    "-Reading in files and writing out files\n",
    "-Packages\n",
    "-Pandas and Numpy (Use numpy to show a sigmoid function) Basically R in Python\n",
    "-Visualizations (Matplotlib and Seaborn)\n",
    "-Using SQL in Python (including a short Pickle Tutorial)\n",
    "-Interacting with Excel and other local data\n",
    "-Machine Learning and AI (Iris, Mnist, or Guess which fill line?)\n",
    "-Troubleshooting broken scripts (Understanding error codes, SYNTAX,SYNTAX,SYNTAX, StackOverflow, Documentation for Python or Package)"
   ]
  },
  {
   "cell_type": "markdown",
   "metadata": {},
   "source": [
    "#### Future topics: \n",
    "        -Git tutorial\n",
    "        -Command line interface commands\n",
    "        -Virtual Environments (How to keep things tidy and ensure reproducibility!)\n",
    "        -Creating your first program! (Installable Programs and Docker Programs)\n",
    "        -How to make a GUI Interface (Exploring the giant loop)\\\n",
    "        -Progressive Web Apps and launching solutions to the interwebs! (A FireBase Approach)\n",
    "        -Other programming languages and what they are good for\n",
    "        "
   ]
  },
  {
   "cell_type": "code",
   "execution_count": null,
   "metadata": {},
   "outputs": [],
   "source": []
  }
 ],
 "metadata": {
  "kernelspec": {
   "display_name": "Python 3",
   "language": "python",
   "name": "python3"
  },
  "language_info": {
   "codemirror_mode": {
    "name": "ipython",
    "version": 3
   },
   "file_extension": ".py",
   "mimetype": "text/x-python",
   "name": "python",
   "nbconvert_exporter": "python",
   "pygments_lexer": "ipython3",
   "version": "3.7.4"
  }
 },
 "nbformat": 4,
 "nbformat_minor": 4
}
