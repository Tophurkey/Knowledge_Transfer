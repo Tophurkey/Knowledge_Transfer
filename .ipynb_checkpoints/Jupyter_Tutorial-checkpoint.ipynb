{
 "cells": [
  {
   "cell_type": "markdown",
   "metadata": {},
   "source": [
    "# Welcome to Python with Jupyter Notebooks!\n",
    "\n",
    "\n",
    "##### In this course we will go over some of the basics in getting started with the python language in a Jupyter Notebook and cover some basics in programming followed by some examples!\n",
    "\n",
    "\n",
    "## What is Programming and How Will it Help My Role?\n",
    "\n",
    "\n",
    "#### Programming is becoming increasingly popular and needed for many engineering roles as the amount of tasks required to complete in an expeditious manner is skyrocketting at the same time we are experiencing a data overload from various sources such as IoT (Internet of Things), Manufacturing Measurement Equipment, and Large Databases. Some times this data is a huge pool collected in a data lake for sifting through and other times this data is high velocity with the need to handle and react quickly with one or more sources. ####"
   ]
  },
  {
   "cell_type": "markdown",
   "metadata": {},
   "source": [
    "![Data Lake](\\Data_lake_Data_Warehouse.png \"Typical Data Lake Architectures\")"
   ]
  },
  {
   "cell_type": "markdown",
   "metadata": {},
   "source": [
    "#### So when we see this we can see that many of our systems feed into what we can call a \"Data Lake\" that is the primary place where we are interacting with our data. There are other efforts that are ongoing which may also allow us to access a much more structered set of data in a \"Data Warehouse\" which would be something a little more akin to Denodo or even higher levels of structure or accessibility. ####\n",
    "\n",
    "#### What is the Key here is that when utilizing programming languages such as Python we are not bound or restricted to accessing the Data at any of these points. Currently with our standard practices of using only SQL Queries we are isolated to only collecting data from the Data Lakes and with a limited array of analysis tools to do this. ####\n",
    "###### This of course excludes any manual or non-automated data pulling we may do directly in each application which is usually much more restrictive and not analysis friendly "
   ]
  },
  {
   "cell_type": "markdown",
   "metadata": {},
   "source": [
    "# So Why Python Over SQL?\n",
    "![Venn Diagram](\\sql_py_vd.png \"SQL and Python Venn Diagram\")"
   ]
  },
  {
   "cell_type": "markdown",
   "metadata": {},
   "source": [
    "#### Offline use of a programming language is one of the best ways for us to learn how to do things and explore as if we are in our own Development environment. As a matter of fact when you are using your own code, on your own machine, with your own data (or data you have already pulled onto your computer) you have essentially turned you computer into a Dev environment!\n",
    "\n",
    "#### One of the best aspects of using Jupyter Notebooks to program with python is being able compile your code in blocks that allows you to troubleshoot it as you go and also change each chunk to get the result you want without having to compile the whole code again. The way python does this is through utilization of a Kernel that does the compilation of your code and holds the state through each iteration as you execute a new cell. Think of the kernel as your actual program being hosted by jupyter and each time you update a cell it sends that info back through a socket in json. There's no need to understand how this works to use it but in short this setup allows you to create and edit scripts with ease!\n",
    "\n",
    "Let's see an example and actually do some coding!"
   ]
  },
  {
   "cell_type": "code",
   "execution_count": 3,
   "metadata": {},
   "outputs": [
    {
     "name": "stdout",
     "output_type": "stream",
     "text": [
      "Hello World!\n"
     ]
    }
   ],
   "source": [
    "'''The simplest program to show proficiency in any language is called:\n",
    "                        Hello World!'''\n",
    "\n",
    "#In python we can print out to the screen using the following:\n",
    "print('Hello World!')"
   ]
  },
  {
   "cell_type": "markdown",
   "metadata": {},
   "source": [
    "#### Congratulations! You've run your first program! In jupyter we can select a cell and run each of those cells individually or we can run them all at once by restarting the kernel and running all cells. A handy shortcut for running the cell you are in after updating it is to use Shift + Enter. Try updating the string statement in the cell above and re-run it!"
   ]
  },
  {
   "cell_type": "markdown",
   "metadata": {},
   "source": [
    "## Types of Data\n",
    "\n",
    "#### String? Char? Int? Double? Object? Boolean? There are many different types of Data that we will be interacting with when programming and knowing the differences between them all can be critical to not banging your head against the wall or wondering why your sig figs are never correct in you outputs. \n",
    "\n",
    "#### Luckily Python only uses 5 \"Smart\" Data types that simplify a lot of this and make your lives easier!"
   ]
  },
  {
   "cell_type": "code",
   "execution_count": null,
   "metadata": {},
   "outputs": [],
   "source": [
    "#Strings are just words or text\n",
    "new_string = 'This is a string made of many Chars'\n",
    "\n",
    "#Numbers come in many different forms\n",
    "new_int = 4\n",
    "new_float = 6.787\n",
    "#Remember this one for when we get into loops\n",
    "new_range = range(6)\n",
    "\n",
    "#Booleans are generally resolved into True or False but their inputs can be any conditional argument\n",
    "#Remember these when we discuss Conditional Statements\n",
    "new_bool = "
   ]
  },
  {
   "cell_type": "code",
   "execution_count": 2,
   "metadata": {},
   "outputs": [
    {
     "name": "stdout",
     "output_type": "stream",
     "text": [
      "range(0, 6)\n"
     ]
    }
   ],
   "source": []
  },
  {
   "cell_type": "code",
   "execution_count": null,
   "metadata": {},
   "outputs": [],
   "source": []
  },
  {
   "cell_type": "code",
   "execution_count": null,
   "metadata": {},
   "outputs": [],
   "source": []
  },
  {
   "cell_type": "code",
   "execution_count": null,
   "metadata": {},
   "outputs": [],
   "source": []
  },
  {
   "cell_type": "code",
   "execution_count": null,
   "metadata": {},
   "outputs": [],
   "source": []
  },
  {
   "cell_type": "code",
   "execution_count": null,
   "metadata": {},
   "outputs": [],
   "source": []
  },
  {
   "cell_type": "code",
   "execution_count": null,
   "metadata": {},
   "outputs": [],
   "source": []
  },
  {
   "cell_type": "code",
   "execution_count": null,
   "metadata": {},
   "outputs": [],
   "source": []
  },
  {
   "cell_type": "markdown",
   "metadata": {},
   "source": [
    "Topics:\n",
    "-If Else Statements\n",
    "-For While Loops\n",
    "-Reading in files and writing out files\n",
    "-Packages\n",
    "-Pandas and Numpy (Use numpy to show a sigmoid function) Basically R in Python\n",
    "-Visualizations (Matplotlib and Seaborn)\n",
    "-Using SQL in Python (including a short Pickle Tutorial)\n",
    "-Interacting with Excel and other local data\n",
    "-Machine Learning and AI (Iris, Mnist, or Guess which fill line?)"
   ]
  },
  {
   "cell_type": "markdown",
   "metadata": {},
   "source": [
    "#### Future topics: \n",
    "        -Git tutorial\n",
    "        -Command line interface commands\n",
    "        -Virtual Environments (How to keep things tidy and ensure reproducibility!)\n",
    "        -Creating your first program! (Installable Programs and Docker Programs)\n",
    "        -How to make a GUI Interface (Exploring the giant loop)\\\n",
    "        -Progressive Web Apps and launching solutions to the interwebs! (A FireBase Approach)\n",
    "        -Other programming languages and what they are good for\n",
    "        "
   ]
  },
  {
   "cell_type": "code",
   "execution_count": null,
   "metadata": {},
   "outputs": [],
   "source": []
  }
 ],
 "metadata": {
  "kernelspec": {
   "display_name": "Python 3",
   "language": "python",
   "name": "python3"
  },
  "language_info": {
   "codemirror_mode": {
    "name": "ipython",
    "version": 3
   },
   "file_extension": ".py",
   "mimetype": "text/x-python",
   "name": "python",
   "nbconvert_exporter": "python",
   "pygments_lexer": "ipython3",
   "version": "3.7.5"
  }
 },
 "nbformat": 4,
 "nbformat_minor": 4
}
